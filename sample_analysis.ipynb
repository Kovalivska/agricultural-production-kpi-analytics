{
 "cells": [
  {
   "cell_type": "markdown",
   "id": "d05052f3",
   "metadata": {},
   "source": [
    "# ⚠️ CRITICAL DISCLAIMER\n",
    "\n",
    "This is a DEMONSTRATION notebook with SYNTHETIC DATA ONLY.\n",
    "\n",
    "All product names, client information, facility details, and production data have been:\n",
    "- Removed\n",
    "- Anonymized\n",
    "- Replaced with generic examples\n",
    "\n",
    "About the metrics:\n",
    "- Figures like \"15–25% reduction\" represent potential based on industry benchmarks\n",
    "- NOT guaranteed production results\n",
    "\n",
    "Purpose: Demonstrate KPI calculation methodology and system architecture only.\n",
    "\n",
    "Developed during: Data Science internship at Data Coffee GmbH (June–September 2025)\n",
    "\n",
    "Confidentiality: Real client data and proprietary business logic have been removed.\n"
   ]
  },
  {
   "cell_type": "code",
   "execution_count": null,
   "id": "46812669",
   "metadata": {},
   "outputs": [],
   "source": [
    "# Imports and data load\n",
    "import pandas as pd\n",
    "import matplotlib.pyplot as plt\n",
    "\n",
    "# Load synthetic data\n",
    "csv_path = '../data/sample_production_data.csv'\n",
    "df = pd.read_csv(csv_path, parse_dates=['timestamp'])\n",
    "\n",
    "# Basic KPIs\n",
    "avg_production = df['production_volume'].mean()\n",
    "avg_defect = df['defect_rate_percent'].mean()\n",
    "# Simple OEE approximation from components available (not exact formula)\n",
    "oee_approx = (df['equipment_utilization'].mean() * df['first_pass_yield'].mean()) / 100\n",
    "\n",
    "print(f\"Avg production volume: {avg_production:.0f} units/hour\")\n",
    "print(f\"Avg defect rate: {avg_defect:.2f}%\")\n",
    "print(f\"OEE approximation: {oee_approx:.1f}\")"
   ]
  },
  {
   "cell_type": "code",
   "execution_count": null,
   "id": "48e0e419",
   "metadata": {},
   "outputs": [],
   "source": [
    "# Plot production volume over time\n",
    "plt.figure(figsize=(10,4))\n",
    "plt.plot(df['timestamp'], df['production_volume'], label='Production Volume')\n",
    "plt.xlabel('Time')\n",
    "plt.ylabel('Units/hour')\n",
    "plt.title('Production Volume Over Time (Synthetic)')\n",
    "plt.legend()\n",
    "plt.tight_layout()\n",
    "plt.show()"
   ]
  }
 ],
 "metadata": {
  "kernelspec": {
   "display_name": "Python 3",
   "language": "python",
   "name": "python3"
  },
  "language_info": {
   "codemirror_mode": {
    "name": "ipython",
    "version": 3
   },
   "file_extension": ".py",
   "mimetype": "text/x-python",
   "name": "python",
   "nbconvert_exporter": "python",
   "pygments_lexer": "ipython3",
   "version": "3.11.13"
  }
 },
 "nbformat": 4,
 "nbformat_minor": 5
}
